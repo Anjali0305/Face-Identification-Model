{
  "nbformat": 4,
  "nbformat_minor": 0,
  "metadata": {
    "colab": {
      "name": "Final FACE_EXTRACTOR.ipynb",
      "provenance": [],
      "collapsed_sections": []
    },
    "kernelspec": {
      "name": "python3",
      "display_name": "Python 3"
    },
    "language_info": {
      "name": "python"
    },
    "accelerator": "GPU"
  },
  "cells": [
    {
      "cell_type": "code",
      "metadata": {
        "colab": {
          "base_uri": "https://localhost:8080/"
        },
        "id": "Os9RiOyesVLT",
        "outputId": "dd4c7da8-ef7a-4e96-b151-7aedccc986c0"
      },
      "source": [
        "from google.colab import drive\n",
        "drive.mount('/content/drive')"
      ],
      "execution_count": 1,
      "outputs": [
        {
          "output_type": "stream",
          "text": [
            "Mounted at /content/drive\n"
          ],
          "name": "stdout"
        }
      ]
    },
    {
      "cell_type": "code",
      "metadata": {
        "colab": {
          "base_uri": "https://localhost:8080/"
        },
        "id": "6H3yoyxxsWmZ",
        "outputId": "2237d340-6b57-4ccf-838f-d6adb1b0d57e"
      },
      "source": [
        "!ls '/content/drive'"
      ],
      "execution_count": 2,
      "outputs": [
        {
          "output_type": "stream",
          "text": [
            "MyDrive\n"
          ],
          "name": "stdout"
        }
      ]
    },
    {
      "cell_type": "code",
      "metadata": {
        "colab": {
          "base_uri": "https://localhost:8080/"
        },
        "id": "Y6cOjJlKzgFa",
        "outputId": "b0fd80fc-3da4-439c-b041-a3ef6b25868d"
      },
      "source": [
        "!pip install mtcnn"
      ],
      "execution_count": 3,
      "outputs": [
        {
          "output_type": "stream",
          "text": [
            "Collecting mtcnn\n",
            "\u001b[?25l  Downloading https://files.pythonhosted.org/packages/67/43/abee91792797c609c1bf30f1112117f7a87a713ebaa6ec5201d5555a73ef/mtcnn-0.1.0-py3-none-any.whl (2.3MB)\n",
            "\u001b[K     |████████████████████████████████| 2.3MB 6.6MB/s \n",
            "\u001b[?25hRequirement already satisfied: opencv-python>=4.1.0 in /usr/local/lib/python3.7/dist-packages (from mtcnn) (4.1.2.30)\n",
            "Requirement already satisfied: keras>=2.0.0 in /usr/local/lib/python3.7/dist-packages (from mtcnn) (2.4.3)\n",
            "Requirement already satisfied: numpy>=1.14.5 in /usr/local/lib/python3.7/dist-packages (from opencv-python>=4.1.0->mtcnn) (1.19.5)\n",
            "Requirement already satisfied: h5py in /usr/local/lib/python3.7/dist-packages (from keras>=2.0.0->mtcnn) (3.1.0)\n",
            "Requirement already satisfied: pyyaml in /usr/local/lib/python3.7/dist-packages (from keras>=2.0.0->mtcnn) (3.13)\n",
            "Requirement already satisfied: scipy>=0.14 in /usr/local/lib/python3.7/dist-packages (from keras>=2.0.0->mtcnn) (1.4.1)\n",
            "Requirement already satisfied: cached-property; python_version < \"3.8\" in /usr/local/lib/python3.7/dist-packages (from h5py->keras>=2.0.0->mtcnn) (1.5.2)\n",
            "Installing collected packages: mtcnn\n",
            "Successfully installed mtcnn-0.1.0\n"
          ],
          "name": "stdout"
        }
      ]
    },
    {
      "cell_type": "code",
      "metadata": {
        "id": "tr-MqF-_qXLK"
      },
      "source": [
        "from matplotlib import pyplot\n",
        "from PIL import Image\n",
        "from numpy import asarray\n",
        "from mtcnn.mtcnn import MTCNN\n",
        "import cv2\n",
        "import numpy\n",
        "\n",
        "face_classifier = cv2.CascadeClassifier(cv2.data.haarcascades + 'haarcascade_frontalface_default.xml')\n",
        "\n",
        "def face_extractor(photo):\n",
        "    photo = cv2.imread(photo)\n",
        "    gray_photo = cv2.cvtColor(photo, cv2.COLOR_BGR2GRAY)\n",
        "    faces = face_classifier.detectMultiScale(gray_photo)\n",
        "    \n",
        "    if faces is ():\n",
        "        return None\n",
        "    \n",
        "    else:\n",
        "        # Crop all faces found\n",
        "        for (x,y,w,h) in faces:\n",
        "            cropped_face = photo[y:y+h, x:x+w]\n",
        "        \n",
        "        return cropped_face"
      ],
      "execution_count": 4,
      "outputs": []
    },
    {
      "cell_type": "code",
      "metadata": {
        "id": "5uAWYGU7x1lC"
      },
      "source": [
        "data_path = '/content/drive/MyDrive/N_Dataset'"
      ],
      "execution_count": 5,
      "outputs": []
    },
    {
      "cell_type": "code",
      "metadata": {
        "colab": {
          "base_uri": "https://localhost:8080/"
        },
        "id": "gZF_ZgmFyZOZ",
        "outputId": "b72c9b3d-df20-47c0-a97b-98b5a6d39133"
      },
      "source": [
        "import os\n",
        "\n",
        "folder_list = os.listdir(data_path)\n",
        "folder_list"
      ],
      "execution_count": 14,
      "outputs": [
        {
          "output_type": "execute_result",
          "data": {
            "text/plain": [
              "['Akshay Kumar',\n",
              " 'Amir Khan',\n",
              " 'Hrithik Roshan',\n",
              " 'John Abraham',\n",
              " 'Kartik Aaryan',\n",
              " 'Ranbir Kapoor',\n",
              " 'Ranveer Singh',\n",
              " 'Shahruk Khan',\n",
              " 'Shahid Kapoor',\n",
              " 'Salman Khan']"
            ]
          },
          "metadata": {
            "tags": []
          },
          "execution_count": 14
        }
      ]
    },
    {
      "cell_type": "code",
      "metadata": {
        "colab": {
          "base_uri": "https://localhost:8080/"
        },
        "id": "9cl35y96yjzt",
        "outputId": "9d90e331-5804-4c16-b0e3-0fabe47d1b87"
      },
      "source": [
        "f_list = os.listdir(data_path + '/' + folder_list[8])\n",
        "len(f_list)"
      ],
      "execution_count": 33,
      "outputs": [
        {
          "output_type": "execute_result",
          "data": {
            "text/plain": [
              "190"
            ]
          },
          "metadata": {
            "tags": []
          },
          "execution_count": 33
        }
      ]
    },
    {
      "cell_type": "code",
      "metadata": {
        "id": "GdD0p1Qw3FOB"
      },
      "source": [
        "for i in folder_list:\n",
        "  temp_list = os.listdir('/content/drive/MyDrive/N_Dataset/' + i)\n",
        "  #print(i)\n",
        "  count = 0\n",
        "  for j in temp_list:\n",
        "      photo = ('/content/drive/MyDrive/N_Dataset/' + i + '/' + j)\n",
        "      #print(j)\n",
        "\n",
        "      face = face_extractor(photo)\n",
        "\n",
        "      if face_extractor(photo) is not None:\n",
        "          count += 1\n",
        "\n",
        "          face = cv2.resize(face_extractor(photo), (200, 200))\n",
        "          face = cv2.cvtColor(face, cv2.COLOR_BGR2GRAY)\n",
        "\n",
        "          # Save file in specified directory with unique name\n",
        "          file_name_path = '/content/drive/MyDrive/celeb_data/face/' + i + str(count) + '.jpg'\n",
        "          cv2.imwrite(file_name_path, face)\n",
        "\n",
        "      else:\n",
        "          pass      "
      ],
      "execution_count": 35,
      "outputs": []
    },
    {
      "cell_type": "code",
      "metadata": {
        "id": "3nS7bfIw5Qic"
      },
      "source": [
        " "
      ],
      "execution_count": 34,
      "outputs": []
    },
    {
      "cell_type": "code",
      "metadata": {
        "id": "3rQFdPJU9Zp1"
      },
      "source": [
        ""
      ],
      "execution_count": null,
      "outputs": []
    }
  ]
}